{
 "cells": [
  {
   "cell_type": "code",
   "execution_count": 3,
   "id": "351f137d",
   "metadata": {
    "papermill": {
     "duration": 1.53841,
     "end_time": "2021-10-08T04:14:40.759736",
     "exception": false,
     "start_time": "2021-10-08T04:14:39.221326",
     "status": "completed"
    },
    "tags": []
   },
   "outputs": [],
   "source": [
    "#Importing the Libraries\n",
    "import numpy as np\n",
    "import pandas as pd\n",
    "import datetime\n",
    "import matplotlib\n",
    "import matplotlib.pyplot as plt\n",
    "from matplotlib import colors\n",
    "import seaborn as sns\n",
    "from sklearn.preprocessing import LabelEncoder\n",
    "from sklearn.preprocessing import StandardScaler\n",
    "from sklearn.decomposition import PCA\n",
    "from yellowbrick.cluster import KElbowVisualizer\n",
    "from sklearn.cluster import KMeans\n",
    "import matplotlib.pyplot as plt, numpy as np\n",
    "from mpl_toolkits.mplot3d import Axes3D\n",
    "from sklearn.cluster import AgglomerativeClustering\n",
    "from matplotlib.colors import ListedColormap\n",
    "from sklearn import metrics\n",
    "import warnings\n",
    "import sys"
   ]
  },
  {
   "cell_type": "code",
   "execution_count": 5,
   "id": "7a6e8b5a",
   "metadata": {
    "papermill": {
     "duration": 0.087752,
     "end_time": "2021-10-08T04:14:40.933340",
     "exception": false,
     "start_time": "2021-10-08T04:14:40.845588",
     "status": "completed"
    },
    "tags": []
   },
   "outputs": [
    {
     "name": "stdout",
     "output_type": "stream",
     "text": [
      "Number of datapoints: 2240\n"
     ]
    },
    {
     "data": {
      "text/html": [
       "<div>\n",
       "<style scoped>\n",
       "    .dataframe tbody tr th:only-of-type {\n",
       "        vertical-align: middle;\n",
       "    }\n",
       "\n",
       "    .dataframe tbody tr th {\n",
       "        vertical-align: top;\n",
       "    }\n",
       "\n",
       "    .dataframe thead th {\n",
       "        text-align: right;\n",
       "    }\n",
       "</style>\n",
       "<table border=\"1\" class=\"dataframe\">\n",
       "  <thead>\n",
       "    <tr style=\"text-align: right;\">\n",
       "      <th></th>\n",
       "      <th>ID</th>\n",
       "      <th>Year_Birth</th>\n",
       "      <th>Education</th>\n",
       "      <th>Marital_Status</th>\n",
       "      <th>Income</th>\n",
       "      <th>Kidhome</th>\n",
       "      <th>Teenhome</th>\n",
       "      <th>Dt_Customer</th>\n",
       "      <th>Recency</th>\n",
       "      <th>MntWines</th>\n",
       "      <th>...</th>\n",
       "      <th>NumWebVisitsMonth</th>\n",
       "      <th>AcceptedCmp3</th>\n",
       "      <th>AcceptedCmp4</th>\n",
       "      <th>AcceptedCmp5</th>\n",
       "      <th>AcceptedCmp1</th>\n",
       "      <th>AcceptedCmp2</th>\n",
       "      <th>Complain</th>\n",
       "      <th>Z_CostContact</th>\n",
       "      <th>Z_Revenue</th>\n",
       "      <th>Response</th>\n",
       "    </tr>\n",
       "  </thead>\n",
       "  <tbody>\n",
       "    <tr>\n",
       "      <th>0</th>\n",
       "      <td>5524</td>\n",
       "      <td>1957</td>\n",
       "      <td>Graduation</td>\n",
       "      <td>Single</td>\n",
       "      <td>58138.0</td>\n",
       "      <td>0</td>\n",
       "      <td>0</td>\n",
       "      <td>04-09-2012</td>\n",
       "      <td>58</td>\n",
       "      <td>635</td>\n",
       "      <td>...</td>\n",
       "      <td>7</td>\n",
       "      <td>0</td>\n",
       "      <td>0</td>\n",
       "      <td>0</td>\n",
       "      <td>0</td>\n",
       "      <td>0</td>\n",
       "      <td>0</td>\n",
       "      <td>3</td>\n",
       "      <td>11</td>\n",
       "      <td>1</td>\n",
       "    </tr>\n",
       "    <tr>\n",
       "      <th>1</th>\n",
       "      <td>2174</td>\n",
       "      <td>1954</td>\n",
       "      <td>Graduation</td>\n",
       "      <td>Single</td>\n",
       "      <td>46344.0</td>\n",
       "      <td>1</td>\n",
       "      <td>1</td>\n",
       "      <td>08-03-2014</td>\n",
       "      <td>38</td>\n",
       "      <td>11</td>\n",
       "      <td>...</td>\n",
       "      <td>5</td>\n",
       "      <td>0</td>\n",
       "      <td>0</td>\n",
       "      <td>0</td>\n",
       "      <td>0</td>\n",
       "      <td>0</td>\n",
       "      <td>0</td>\n",
       "      <td>3</td>\n",
       "      <td>11</td>\n",
       "      <td>0</td>\n",
       "    </tr>\n",
       "    <tr>\n",
       "      <th>2</th>\n",
       "      <td>4141</td>\n",
       "      <td>1965</td>\n",
       "      <td>Graduation</td>\n",
       "      <td>Together</td>\n",
       "      <td>71613.0</td>\n",
       "      <td>0</td>\n",
       "      <td>0</td>\n",
       "      <td>21-08-2013</td>\n",
       "      <td>26</td>\n",
       "      <td>426</td>\n",
       "      <td>...</td>\n",
       "      <td>4</td>\n",
       "      <td>0</td>\n",
       "      <td>0</td>\n",
       "      <td>0</td>\n",
       "      <td>0</td>\n",
       "      <td>0</td>\n",
       "      <td>0</td>\n",
       "      <td>3</td>\n",
       "      <td>11</td>\n",
       "      <td>0</td>\n",
       "    </tr>\n",
       "    <tr>\n",
       "      <th>3</th>\n",
       "      <td>6182</td>\n",
       "      <td>1984</td>\n",
       "      <td>Graduation</td>\n",
       "      <td>Together</td>\n",
       "      <td>26646.0</td>\n",
       "      <td>1</td>\n",
       "      <td>0</td>\n",
       "      <td>10-02-2014</td>\n",
       "      <td>26</td>\n",
       "      <td>11</td>\n",
       "      <td>...</td>\n",
       "      <td>6</td>\n",
       "      <td>0</td>\n",
       "      <td>0</td>\n",
       "      <td>0</td>\n",
       "      <td>0</td>\n",
       "      <td>0</td>\n",
       "      <td>0</td>\n",
       "      <td>3</td>\n",
       "      <td>11</td>\n",
       "      <td>0</td>\n",
       "    </tr>\n",
       "    <tr>\n",
       "      <th>4</th>\n",
       "      <td>5324</td>\n",
       "      <td>1981</td>\n",
       "      <td>PhD</td>\n",
       "      <td>Married</td>\n",
       "      <td>58293.0</td>\n",
       "      <td>1</td>\n",
       "      <td>0</td>\n",
       "      <td>19-01-2014</td>\n",
       "      <td>94</td>\n",
       "      <td>173</td>\n",
       "      <td>...</td>\n",
       "      <td>5</td>\n",
       "      <td>0</td>\n",
       "      <td>0</td>\n",
       "      <td>0</td>\n",
       "      <td>0</td>\n",
       "      <td>0</td>\n",
       "      <td>0</td>\n",
       "      <td>3</td>\n",
       "      <td>11</td>\n",
       "      <td>0</td>\n",
       "    </tr>\n",
       "  </tbody>\n",
       "</table>\n",
       "<p>5 rows × 29 columns</p>\n",
       "</div>"
      ],
      "text/plain": [
       "     ID  Year_Birth   Education Marital_Status   Income  Kidhome  Teenhome  \\\n",
       "0  5524        1957  Graduation         Single  58138.0        0         0   \n",
       "1  2174        1954  Graduation         Single  46344.0        1         1   \n",
       "2  4141        1965  Graduation       Together  71613.0        0         0   \n",
       "3  6182        1984  Graduation       Together  26646.0        1         0   \n",
       "4  5324        1981         PhD        Married  58293.0        1         0   \n",
       "\n",
       "  Dt_Customer  Recency  MntWines  ...  NumWebVisitsMonth  AcceptedCmp3  \\\n",
       "0  04-09-2012       58       635  ...                  7             0   \n",
       "1  08-03-2014       38        11  ...                  5             0   \n",
       "2  21-08-2013       26       426  ...                  4             0   \n",
       "3  10-02-2014       26        11  ...                  6             0   \n",
       "4  19-01-2014       94       173  ...                  5             0   \n",
       "\n",
       "   AcceptedCmp4  AcceptedCmp5  AcceptedCmp1  AcceptedCmp2  Complain  \\\n",
       "0             0             0             0             0         0   \n",
       "1             0             0             0             0         0   \n",
       "2             0             0             0             0         0   \n",
       "3             0             0             0             0         0   \n",
       "4             0             0             0             0         0   \n",
       "\n",
       "   Z_CostContact  Z_Revenue  Response  \n",
       "0              3         11         1  \n",
       "1              3         11         0  \n",
       "2              3         11         0  \n",
       "3              3         11         0  \n",
       "4              3         11         0  \n",
       "\n",
       "[5 rows x 29 columns]"
      ]
     },
     "execution_count": 5,
     "metadata": {},
     "output_type": "execute_result"
    }
   ],
   "source": [
    "#Loading the dataset\n",
    "data = pd.read_csv(\"Task3.csv\", sep=\"\\t\")\n",
    "print(\"Number of datapoints:\", len(data))\n",
    "data.head()"
   ]
  },
  {
   "cell_type": "code",
   "execution_count": null,
   "id": "ce8667e8",
   "metadata": {
    "papermill": {
     "duration": 0.058629,
     "end_time": "2021-10-08T04:14:41.076744",
     "exception": false,
     "start_time": "2021-10-08T04:14:41.018115",
     "status": "completed"
    },
    "tags": []
   },
   "outputs": [],
   "source": [
    "#Information on features \n",
    "data.info()"
   ]
  },
  {
   "cell_type": "code",
   "execution_count": null,
   "id": "b6003c58",
   "metadata": {
    "papermill": {
     "duration": 0.042312,
     "end_time": "2021-10-08T04:14:41.207425",
     "exception": false,
     "start_time": "2021-10-08T04:14:41.165113",
     "status": "completed"
    },
    "tags": []
   },
   "outputs": [],
   "source": [
    "#To remove the NA values\n",
    "data = data.dropna()\n",
    "print(\"The total number of data-points after removing the rows with missing values are:\", len(data))"
   ]
  },
  {
   "cell_type": "code",
   "execution_count": null,
   "id": "29e0a06d",
   "metadata": {
    "papermill": {
     "duration": 0.046416,
     "end_time": "2021-10-08T04:14:41.341737",
     "exception": false,
     "start_time": "2021-10-08T04:14:41.295321",
     "status": "completed"
    },
    "tags": []
   },
   "outputs": [],
   "source": [
    "data[\"Dt_Customer\"] = pd.to_datetime(data[\"Dt_Customer\"])\n",
    "dates = []\n",
    "for i in data[\"Dt_Customer\"]:\n",
    "    i = i.date()\n",
    "    dates.append(i)  \n",
    "#Dates of the newest and oldest recorded customer\n",
    "print(\"The newest customer's enrolment date in therecords:\",max(dates))\n",
    "print(\"The oldest customer's enrolment date in the records:\",min(dates))\n"
   ]
  },
  {
   "cell_type": "markdown",
   "id": "a16a073f",
   "metadata": {
    "papermill": {
     "duration": 0.029401,
     "end_time": "2021-10-08T04:14:41.400477",
     "exception": false,
     "start_time": "2021-10-08T04:14:41.371076",
     "status": "completed"
    },
    "tags": []
   },
   "source": [
    "Creating a feature **(\"Customer_For\")** of the number of days the customers started to shop in the store relative to the last recorded date"
   ]
  },
  {
   "cell_type": "code",
   "execution_count": null,
   "id": "23e9342f",
   "metadata": {
    "papermill": {
     "duration": 0.051941,
     "end_time": "2021-10-08T04:14:41.482563",
     "exception": false,
     "start_time": "2021-10-08T04:14:41.430622",
     "status": "completed"
    },
    "tags": []
   },
   "outputs": [],
   "source": [
    "#Created a feature \"Customer_For\"\n",
    "days = []\n",
    "d1 = max(dates) #taking it to be the newest customer\n",
    "for i in dates:\n",
    "    delta = d1 - i\n",
    "    days.append(delta)\n",
    "data[\"Customer_For\"] = days\n",
    "data[\"Customer_For\"] = pd.to_numeric(data[\"Customer_For\"], errors=\"coerce\")"
   ]
  },
  {
   "cell_type": "markdown",
   "id": "12d9ce12",
   "metadata": {
    "papermill": {
     "duration": 0.040084,
     "end_time": "2021-10-08T04:14:41.565744",
     "exception": false,
     "start_time": "2021-10-08T04:14:41.525660",
     "status": "completed"
    },
    "tags": []
   },
   "source": [
    "Now we will be exploring the unique values in the categorical features to get a clear idea of the data.  "
   ]
  },
  {
   "cell_type": "code",
   "execution_count": null,
   "id": "a4b44962",
   "metadata": {
    "papermill": {
     "duration": 0.043279,
     "end_time": "2021-10-08T04:14:41.640142",
     "exception": false,
     "start_time": "2021-10-08T04:14:41.596863",
     "status": "completed"
    },
    "tags": []
   },
   "outputs": [],
   "source": [
    "print(\"Total categories in the feature Marital_Status:\\n\", data[\"Marital_Status\"].value_counts(), \"\\n\")\n",
    "print(\"Total categories in the feature Education:\\n\", data[\"Education\"].value_counts())"
   ]
  },
  {
   "cell_type": "code",
   "execution_count": null,
   "id": "39c3ecc3",
   "metadata": {
    "papermill": {
     "duration": 0.055238,
     "end_time": "2021-10-08T04:14:41.784923",
     "exception": false,
     "start_time": "2021-10-08T04:14:41.729685",
     "status": "completed"
    },
    "tags": []
   },
   "outputs": [],
   "source": [
    "#Feature Engineering\n",
    "#Age of customer today \n",
    "data[\"Age\"] = 2021-data[\"Year_Birth\"]\n",
    "\n",
    "#Total spendings on various items\n",
    "data[\"Spent\"] = data[\"MntWines\"]+ data[\"MntFruits\"]+ data[\"MntMeatProducts\"]+ data[\"MntFishProducts\"]+ data[\"MntSweetProducts\"]+ data[\"MntGoldProds\"]\n",
    "\n",
    "#Deriving living situation by marital status\"Alone\"\n",
    "data[\"Living_With\"]=data[\"Marital_Status\"].replace({\"Married\":\"Partner\", \"Together\":\"Partner\", \"Absurd\":\"Alone\", \"Widow\":\"Alone\", \"YOLO\":\"Alone\", \"Divorced\":\"Alone\", \"Single\":\"Alone\",})\n",
    "\n",
    "#Feature indicating total children living in the household\n",
    "data[\"Children\"]=data[\"Kidhome\"]+data[\"Teenhome\"]\n",
    "\n",
    "#Feature for total members in the householde\n",
    "data[\"Family_Size\"] = data[\"Living_With\"].replace({\"Alone\": 1, \"Partner\":2})+ data[\"Children\"]\n",
    "\n",
    "#Feature pertaining parenthood\n",
    "data[\"Is_Parent\"] = np.where(data.Children> 0, 1, 0)\n",
    "\n",
    "#Segmenting education levels in three groups\n",
    "data[\"Education\"]=data[\"Education\"].replace({\"Basic\":\"Undergraduate\",\"2n Cycle\":\"Undergraduate\", \"Graduation\":\"Graduate\", \"Master\":\"Postgraduate\", \"PhD\":\"Postgraduate\"})\n",
    "\n",
    "#For clarity\n",
    "data=data.rename(columns={\"MntWines\": \"Wines\",\"MntFruits\":\"Fruits\",\"MntMeatProducts\":\"Meat\",\"MntFishProducts\":\"Fish\",\"MntSweetProducts\":\"Sweets\",\"MntGoldProds\":\"Gold\"})\n",
    "\n",
    "#Dropping some of the redundant features\n",
    "to_drop = [\"Marital_Status\", \"Dt_Customer\", \"Z_CostContact\", \"Z_Revenue\", \"Year_Birth\", \"ID\"]\n",
    "data = data.drop(to_drop, axis=1)"
   ]
  },
  {
   "cell_type": "markdown",
   "id": "0a591bf5",
   "metadata": {
    "papermill": {
     "duration": 0.029572,
     "end_time": "2021-10-08T04:14:41.843846",
     "exception": false,
     "start_time": "2021-10-08T04:14:41.814274",
     "status": "completed"
    },
    "tags": []
   },
   "source": [
    "Now that we have some new features let's have a look at the data's stats. "
   ]
  },
  {
   "cell_type": "code",
   "execution_count": null,
   "id": "89cc5d6b",
   "metadata": {
    "papermill": {
     "duration": 0.109706,
     "end_time": "2021-10-08T04:14:41.983356",
     "exception": false,
     "start_time": "2021-10-08T04:14:41.873650",
     "status": "completed"
    },
    "tags": []
   },
   "outputs": [],
   "source": [
    "data.describe()"
   ]
  },
  {
   "cell_type": "markdown",
   "id": "b3b39dc8",
   "metadata": {
    "papermill": {
     "duration": 0.030087,
     "end_time": "2021-10-08T04:14:42.043835",
     "exception": false,
     "start_time": "2021-10-08T04:14:42.013748",
     "status": "completed"
    },
    "tags": []
   },
   "source": [
    "The above stats show some discrepancies in mean Income and Age and max Income and age.\n",
    "\n",
    "Do note that  max-age is 128 years, As I calculated the age that would be today (i.e. 2021) and the data is old.\n",
    "\n",
    "I must take a look at the broader view of the data. \n",
    "I will plot some of the selected features."
   ]
  },
  {
   "cell_type": "code",
   "execution_count": null,
   "id": "f4f98d4d",
   "metadata": {
    "papermill": {
     "duration": 8.979335,
     "end_time": "2021-10-08T04:14:51.053279",
     "exception": false,
     "start_time": "2021-10-08T04:14:42.073944",
     "status": "completed"
    },
    "tags": []
   },
   "outputs": [],
   "source": [
    "#To plot some selected features \n",
    "#Setting up colors prefrences\n",
    "sns.set(rc={\"axes.facecolor\":\"#FFF9ED\",\"figure.facecolor\":\"#FFF9ED\"})\n",
    "pallet = [\"#682F2F\", \"#9E726F\", \"#D6B2B1\", \"#B9C0C9\", \"#9F8A78\", \"#F3AB60\"]\n",
    "cmap = colors.ListedColormap([\"#682F2F\", \"#9E726F\", \"#D6B2B1\", \"#B9C0C9\", \"#9F8A78\", \"#F3AB60\"])\n",
    "#Plotting following features\n",
    "To_Plot = [ \"Income\", \"Recency\", \"Customer_For\", \"Age\", \"Spent\", \"Is_Parent\"]\n",
    "print(\"Reletive Plot Of Some Selected Features: A Data Subset\")\n",
    "plt.figure()\n",
    "sns.pairplot(data[To_Plot], hue= \"Is_Parent\",palette= ([\"#682F2F\",\"#F3AB60\"]))\n",
    "#Taking hue \n",
    "plt.show()"
   ]
  },
  {
   "cell_type": "markdown",
   "id": "55979cdb",
   "metadata": {
    "papermill": {
     "duration": 0.046896,
     "end_time": "2021-10-08T04:14:51.147774",
     "exception": false,
     "start_time": "2021-10-08T04:14:51.100878",
     "status": "completed"
    },
    "tags": []
   },
   "source": [
    "Clearly, there are a few outliers in the Income and Age features. \n",
    "I will be deleting the outliers in the data. "
   ]
  },
  {
   "cell_type": "code",
   "execution_count": null,
   "id": "57be2ade",
   "metadata": {
    "papermill": {
     "duration": 0.05833,
     "end_time": "2021-10-08T04:14:51.252647",
     "exception": false,
     "start_time": "2021-10-08T04:14:51.194317",
     "status": "completed"
    },
    "tags": []
   },
   "outputs": [],
   "source": [
    "#Dropping the outliers by setting a cap on Age and income. \n",
    "data = data[(data[\"Age\"]<90)]\n",
    "data = data[(data[\"Income\"]<600000)]\n",
    "print(\"The total number of data-points after removing the outliers are:\", len(data))"
   ]
  },
  {
   "cell_type": "markdown",
   "id": "b2421777",
   "metadata": {
    "papermill": {
     "duration": 0.046761,
     "end_time": "2021-10-08T04:14:51.348041",
     "exception": false,
     "start_time": "2021-10-08T04:14:51.301280",
     "status": "completed"
    },
    "tags": []
   },
   "source": [
    "Next, let us look at the correlation amongst the features. \n",
    "(Excluding the categorical attributes at this point)"
   ]
  },
  {
   "cell_type": "code",
   "execution_count": null,
   "id": "9003f989",
   "metadata": {
    "papermill": {
     "duration": 4.47676,
     "end_time": "2021-10-08T04:14:55.873081",
     "exception": false,
     "start_time": "2021-10-08T04:14:51.396321",
     "status": "completed"
    },
    "tags": []
   },
   "outputs": [],
   "source": [
    "#correlation matrix\n",
    "corrmat= data.corr()\n",
    "plt.figure(figsize=(20,20))  \n",
    "sns.heatmap(corrmat,annot=True, cmap=cmap, center=0)"
   ]
  },
  {
   "cell_type": "code",
   "execution_count": null,
   "id": "8c2b2759",
   "metadata": {
    "papermill": {
     "duration": 0.085186,
     "end_time": "2021-10-08T04:14:56.148485",
     "exception": false,
     "start_time": "2021-10-08T04:14:56.063299",
     "status": "completed"
    },
    "tags": []
   },
   "outputs": [],
   "source": [
    "#Get list of categorical variables\n",
    "s = (data.dtypes == 'object')\n",
    "object_cols = list(s[s].index)\n",
    "\n",
    "print(\"Categorical variables in the dataset:\", object_cols)"
   ]
  },
  {
   "cell_type": "code",
   "execution_count": null,
   "id": "115aaeb4",
   "metadata": {
    "papermill": {
     "duration": 0.078164,
     "end_time": "2021-10-08T04:14:56.296208",
     "exception": false,
     "start_time": "2021-10-08T04:14:56.218044",
     "status": "completed"
    },
    "tags": []
   },
   "outputs": [],
   "source": [
    "#Label Encoding the object dtypes.\n",
    "LE=LabelEncoder()\n",
    "for i in object_cols:\n",
    "    data[i]=data[[i]].apply(LE.fit_transform)\n",
    "    \n",
    "print(\"All features are now numerical\")"
   ]
  },
  {
   "cell_type": "code",
   "execution_count": null,
   "id": "3d2a7deb",
   "metadata": {
    "papermill": {
     "duration": 0.075769,
     "end_time": "2021-10-08T04:14:56.430085",
     "exception": false,
     "start_time": "2021-10-08T04:14:56.354316",
     "status": "completed"
    },
    "tags": []
   },
   "outputs": [],
   "source": [
    "#Creating a copy of data\n",
    "ds = data.copy()\n",
    "# creating a subset of dataframe by dropping the features on deals accepted and promotions\n",
    "cols_del = ['AcceptedCmp3', 'AcceptedCmp4', 'AcceptedCmp5', 'AcceptedCmp1','AcceptedCmp2', 'Complain', 'Response']\n",
    "ds = ds.drop(cols_del, axis=1)\n",
    "#Scaling\n",
    "scaler = StandardScaler()\n",
    "scaler.fit(ds)\n",
    "scaled_ds = pd.DataFrame(scaler.transform(ds),columns= ds.columns )\n",
    "print(\"All features are now scaled\")"
   ]
  },
  {
   "cell_type": "code",
   "execution_count": null,
   "id": "2f951bfa",
   "metadata": {
    "papermill": {
     "duration": 0.087305,
     "end_time": "2021-10-08T04:14:56.575069",
     "exception": false,
     "start_time": "2021-10-08T04:14:56.487764",
     "status": "completed"
    },
    "tags": []
   },
   "outputs": [],
   "source": [
    "#Scaled data to be used for reducing the dimensionality\n",
    "print(\"Dataframe to be used for further modelling:\")\n",
    "scaled_ds.head()"
   ]
  },
  {
   "cell_type": "code",
   "execution_count": null,
   "id": "1d9a0b28",
   "metadata": {
    "papermill": {
     "duration": 0.118668,
     "end_time": "2021-10-08T04:14:56.870748",
     "exception": false,
     "start_time": "2021-10-08T04:14:56.752080",
     "status": "completed"
    },
    "tags": []
   },
   "outputs": [],
   "source": [
    "#Initiating PCA to reduce dimentions aka features to 3\n",
    "pca = PCA(n_components=3)\n",
    "pca.fit(scaled_ds)\n",
    "PCA_ds = pd.DataFrame(pca.transform(scaled_ds), columns=([\"col1\",\"col2\", \"col3\"]))\n",
    "PCA_ds.describe().T"
   ]
  },
  {
   "cell_type": "code",
   "execution_count": null,
   "id": "c9e49197",
   "metadata": {
    "papermill": {
     "duration": 0.367462,
     "end_time": "2021-10-08T04:14:57.337354",
     "exception": false,
     "start_time": "2021-10-08T04:14:56.969892",
     "status": "completed"
    },
    "tags": []
   },
   "outputs": [],
   "source": [
    "#A 3D Projection Of Data In The Reduced Dimension\n",
    "x =PCA_ds[\"col1\"]\n",
    "y =PCA_ds[\"col2\"]\n",
    "z =PCA_ds[\"col3\"]\n",
    "#To plot\n",
    "fig = plt.figure(figsize=(10,8))\n",
    "ax = fig.add_subplot(111, projection=\"3d\")\n",
    "ax.scatter(x,y,z, c=\"maroon\", marker=\"o\" )\n",
    "ax.set_title(\"A 3D Projection Of Data In The Reduced Dimension\")\n",
    "plt.show()"
   ]
  },
  {
   "cell_type": "code",
   "execution_count": null,
   "id": "70dd6138",
   "metadata": {
    "papermill": {
     "duration": 1.74229,
     "end_time": "2021-10-08T04:14:59.264051",
     "exception": false,
     "start_time": "2021-10-08T04:14:57.521761",
     "status": "completed"
    },
    "tags": []
   },
   "outputs": [],
   "source": [
    "# Quick examination of elbow method to find numbers of clusters to make.\n",
    "print('Elbow Method to determine the number of clusters to be formed:')\n",
    "Elbow_M = KElbowVisualizer(KMeans(), k=10)\n",
    "Elbow_M.fit(PCA_ds)\n",
    "Elbow_M.show()"
   ]
  },
  {
   "cell_type": "markdown",
   "id": "c1ff1fae",
   "metadata": {
    "execution": {
     "iopub.execute_input": "2021-09-24T12:48:31.555898Z",
     "iopub.status.busy": "2021-09-24T12:48:31.555573Z",
     "iopub.status.idle": "2021-09-24T12:48:31.559969Z",
     "shell.execute_reply": "2021-09-24T12:48:31.559288Z",
     "shell.execute_reply.started": "2021-09-24T12:48:31.55586Z"
    },
    "papermill": {
     "duration": 0.063192,
     "end_time": "2021-10-08T04:14:59.390530",
     "exception": false,
     "start_time": "2021-10-08T04:14:59.327338",
     "status": "completed"
    },
    "tags": []
   },
   "source": [
    "The above cell indicates that four will be an optimal number of clusters for this data. \n",
    "Next, we will be fitting the Agglomerative Clustering Model to get the final clusters. "
   ]
  },
  {
   "cell_type": "code",
   "execution_count": null,
   "id": "07f5743a",
   "metadata": {
    "papermill": {
     "duration": 0.213864,
     "end_time": "2021-10-08T04:14:59.670550",
     "exception": false,
     "start_time": "2021-10-08T04:14:59.456686",
     "status": "completed"
    },
    "tags": []
   },
   "outputs": [],
   "source": [
    "#Initiating the Agglomerative Clustering model \n",
    "AC = AgglomerativeClustering(n_clusters=4)\n",
    "# fit model and predict clusters\n",
    "yhat_AC = AC.fit_predict(PCA_ds)\n",
    "PCA_ds[\"Clusters\"] = yhat_AC\n",
    "#Adding the Clusters feature to the orignal dataframe.\n",
    "data[\"Clusters\"]= yhat_AC"
   ]
  },
  {
   "cell_type": "markdown",
   "id": "fb953814",
   "metadata": {
    "papermill": {
     "duration": 0.063434,
     "end_time": "2021-10-08T04:14:59.798310",
     "exception": false,
     "start_time": "2021-10-08T04:14:59.734876",
     "status": "completed"
    },
    "tags": []
   },
   "source": [
    "To examine the clusters formed let's have a look at the 3-D distribution of the clusters. "
   ]
  },
  {
   "cell_type": "code",
   "execution_count": null,
   "id": "c56f2f13",
   "metadata": {
    "papermill": {
     "duration": 0.381844,
     "end_time": "2021-10-08T04:15:00.244379",
     "exception": false,
     "start_time": "2021-10-08T04:14:59.862535",
     "status": "completed"
    },
    "tags": []
   },
   "outputs": [],
   "source": [
    "#Plotting the clusters\n",
    "fig = plt.figure(figsize=(10,8))\n",
    "ax = plt.subplot(111, projection='3d', label=\"bla\")\n",
    "ax.scatter(x, y, z, s=40, c=PCA_ds[\"Clusters\"], marker='o', cmap = cmap )\n",
    "ax.set_title(\"The Plot Of The Clusters\")\n",
    "plt.show()"
   ]
  },
  {
   "cell_type": "code",
   "execution_count": null,
   "id": "6b9189d2",
   "metadata": {
    "papermill": {
     "duration": 0.470936,
     "end_time": "2021-10-08T04:15:00.913213",
     "exception": false,
     "start_time": "2021-10-08T04:15:00.442277",
     "status": "completed"
    },
    "tags": []
   },
   "outputs": [],
   "source": [
    "#Plotting countplot of clusters\n",
    "pal = [\"#682F2F\",\"#B9C0C9\", \"#9F8A78\",\"#F3AB60\"]\n",
    "pl = sns.countplot(x=data[\"Clusters\"], palette= pal)\n",
    "pl.set_title(\"Distribution Of The Clusters\")\n",
    "plt.show()"
   ]
  },
  {
   "cell_type": "markdown",
   "id": "154ce4f8",
   "metadata": {
    "papermill": {
     "duration": 0.067211,
     "end_time": "2021-10-08T04:15:01.051651",
     "exception": false,
     "start_time": "2021-10-08T04:15:00.984440",
     "status": "completed"
    },
    "tags": []
   },
   "source": [
    "\n"
   ]
  },
  {
   "cell_type": "markdown",
   "id": "07f2e0f1",
   "metadata": {
    "papermill": {
     "duration": 0.066727,
     "end_time": "2021-10-08T04:15:01.186736",
     "exception": false,
     "start_time": "2021-10-08T04:15:01.120009",
     "status": "completed"
    },
    "tags": []
   },
   "source": [
    "The clusters seem to be fairly distributed."
   ]
  },
  {
   "cell_type": "code",
   "execution_count": null,
   "id": "559ecb13",
   "metadata": {
    "papermill": {
     "duration": 0.510132,
     "end_time": "2021-10-08T04:15:01.794103",
     "exception": false,
     "start_time": "2021-10-08T04:15:01.283971",
     "status": "completed"
    },
    "tags": []
   },
   "outputs": [],
   "source": [
    "pl = sns.scatterplot(data = data,x=data[\"Spent\"], y=data[\"Income\"],hue=data[\"Clusters\"], palette= pal)\n",
    "pl.set_title(\"Cluster's Profile Based On Income And Spending\")\n",
    "plt.legend()\n",
    "plt.show()"
   ]
  },
  {
   "cell_type": "markdown",
   "id": "84e4c291",
   "metadata": {
    "papermill": {
     "duration": 0.07143,
     "end_time": "2021-10-08T04:15:01.938650",
     "exception": false,
     "start_time": "2021-10-08T04:15:01.867220",
     "status": "completed"
    },
    "tags": []
   },
   "source": [
    "**Income vs  spending plot shows the clusters pattern**\n",
    "* group 0: high spending & average income\n",
    "* group 1: high spending & high income\n",
    "* group 2: low spending & low income \n",
    "* group 3: high spending & low income  \n",
    "\n",
    "Next, I will be looking at the detailed distribution of clusters as per the various products in the data. Namely: Wines, Fruits, Meat, Fish, Sweets and Gold"
   ]
  },
  {
   "cell_type": "code",
   "execution_count": null,
   "id": "4903aaf3",
   "metadata": {
    "papermill": {
     "duration": 4.684948,
     "end_time": "2021-10-08T04:15:06.695522",
     "exception": false,
     "start_time": "2021-10-08T04:15:02.010574",
     "status": "completed"
    },
    "tags": []
   },
   "outputs": [],
   "source": [
    "plt.figure()\n",
    "pl=sns.swarmplot(x=data[\"Clusters\"], y=data[\"Spent\"], color= \"#CBEDDD\", alpha=0.5 )\n",
    "pl=sns.boxenplot(x=data[\"Clusters\"], y=data[\"Spent\"], palette=pal)\n",
    "plt.show()"
   ]
  },
  {
   "cell_type": "markdown",
   "id": "f35b69f9",
   "metadata": {
    "papermill": {
     "duration": 0.07193,
     "end_time": "2021-10-08T04:15:06.840213",
     "exception": false,
     "start_time": "2021-10-08T04:15:06.768283",
     "status": "completed"
    },
    "tags": []
   },
   "source": [
    "\n",
    "From the above plot, it can be clearly seen that cluster 1 is our biggest set of customers closely followed by cluster 0.\n",
    "We can explore what each cluster is spending on for the targeted marketing strategies.\n"
   ]
  },
  {
   "cell_type": "markdown",
   "id": "80f20861",
   "metadata": {
    "papermill": {
     "duration": 0.074689,
     "end_time": "2021-10-08T04:15:06.988145",
     "exception": false,
     "start_time": "2021-10-08T04:15:06.913456",
     "status": "completed"
    },
    "tags": []
   },
   "source": [
    "Let us next explore how did our campaigns do in the past."
   ]
  },
  {
   "cell_type": "code",
   "execution_count": null,
   "id": "e70811f2",
   "metadata": {
    "papermill": {
     "duration": 0.373835,
     "end_time": "2021-10-08T04:15:07.435114",
     "exception": false,
     "start_time": "2021-10-08T04:15:07.061279",
     "status": "completed"
    },
    "tags": []
   },
   "outputs": [],
   "source": [
    "#Creating a feature to get a sum of accepted promotions \n",
    "data[\"Total_Promos\"] = data[\"AcceptedCmp1\"]+ data[\"AcceptedCmp2\"]+ data[\"AcceptedCmp3\"]+ data[\"AcceptedCmp4\"]+ data[\"AcceptedCmp5\"]\n",
    "#Plotting count of total campaign accepted.\n",
    "plt.figure()\n",
    "pl = sns.countplot(x=data[\"Total_Promos\"],hue=data[\"Clusters\"], palette= pal)\n",
    "pl.set_title(\"Count Of Promotion Accepted\")\n",
    "pl.set_xlabel(\"Number Of Total Accepted Promotions\")\n",
    "plt.show()"
   ]
  },
  {
   "cell_type": "markdown",
   "id": "31a9b95f",
   "metadata": {
    "papermill": {
     "duration": 0.075057,
     "end_time": "2021-10-08T04:15:07.585345",
     "exception": false,
     "start_time": "2021-10-08T04:15:07.510288",
     "status": "completed"
    },
    "tags": []
   },
   "source": [
    "There has not been an overwhelming response to the campaigns so far. Very few participants overall. Moreover, no one part take in all 5 of them. Perhaps better-targeted and well-planned campaigns are required to boost sales. \n"
   ]
  },
  {
   "cell_type": "code",
   "execution_count": null,
   "id": "20b69169",
   "metadata": {
    "papermill": {
     "duration": 0.325298,
     "end_time": "2021-10-08T04:15:07.983731",
     "exception": false,
     "start_time": "2021-10-08T04:15:07.658433",
     "status": "completed"
    },
    "tags": []
   },
   "outputs": [],
   "source": [
    "#Plotting the number of deals purchased\n",
    "plt.figure()\n",
    "pl=sns.boxenplot(y=data[\"NumDealsPurchases\"],x=data[\"Clusters\"], palette= pal)\n",
    "pl.set_title(\"Number of Deals Purchased\")\n",
    "plt.show()"
   ]
  },
  {
   "cell_type": "markdown",
   "id": "cb4d960d",
   "metadata": {
    "papermill": {
     "duration": 0.075506,
     "end_time": "2021-10-08T04:15:08.136009",
     "exception": false,
     "start_time": "2021-10-08T04:15:08.060503",
     "status": "completed"
    },
    "tags": []
   },
   "source": [
    "Unlike campaigns, the deals offered did well. It has best outcome with cluster 0 and cluster 3. \n",
    "However, our star customers cluster 1 are not much into the deals. \n",
    "Nothing seems to attract cluster 2 overwhelmingly \n"
   ]
  },
  {
   "cell_type": "code",
   "execution_count": null,
   "id": "61521155",
   "metadata": {
    "_kg_hide-input": true,
    "_kg_hide-output": true,
    "papermill": {
     "duration": 3.296251,
     "end_time": "2021-10-08T04:15:11.506721",
     "exception": false,
     "start_time": "2021-10-08T04:15:08.210470",
     "status": "completed"
    },
    "tags": []
   },
   "outputs": [],
   "source": [
    "#for more details on the purchasing style \n",
    "Places =[\"NumWebPurchases\", \"NumCatalogPurchases\", \"NumStorePurchases\",  \"NumWebVisitsMonth\"] \n",
    "\n",
    "for i in Places:\n",
    "    plt.figure()\n",
    "    sns.jointplot(x=data[i],y = data[\"Spent\"],hue=data[\"Clusters\"], palette= pal)\n",
    "    plt.show()"
   ]
  },
  {
   "cell_type": "code",
   "execution_count": null,
   "id": "4f1be44f",
   "metadata": {
    "papermill": {
     "duration": 25.901281,
     "end_time": "2021-10-08T04:15:37.659466",
     "exception": false,
     "start_time": "2021-10-08T04:15:11.758185",
     "status": "completed"
    },
    "tags": []
   },
   "outputs": [],
   "source": [
    "Personal = [ \"Kidhome\",\"Teenhome\",\"Customer_For\", \"Age\", \"Children\", \"Family_Size\", \"Is_Parent\", \"Education\",\"Living_With\"]\n",
    "\n",
    "for i in Personal:\n",
    "    plt.figure()\n",
    "    sns.jointplot(x=data[i], y=data[\"Spent\"], hue =data[\"Clusters\"], kind=\"kde\", palette=pal)\n",
    "    plt.show()\n"
   ]
  },
  {
   "cell_type": "code",
   "execution_count": null,
   "id": "29e8dbb7-79e6-40ad-8a18-3b68329f1205",
   "metadata": {},
   "outputs": [],
   "source": []
  },
  {
   "cell_type": "code",
   "execution_count": null,
   "id": "ebe9d66b-f29a-46bf-9af7-38a5544970a4",
   "metadata": {},
   "outputs": [],
   "source": []
  }
 ],
 "metadata": {
  "kernelspec": {
   "display_name": "Python 3",
   "language": "python",
   "name": "python3"
  },
  "language_info": {
   "codemirror_mode": {
    "name": "ipython",
    "version": 3
   },
   "file_extension": ".py",
   "mimetype": "text/x-python",
   "name": "python",
   "nbconvert_exporter": "python",
   "pygments_lexer": "ipython3",
   "version": "3.12.0"
  },
  "papermill": {
   "default_parameters": {},
   "duration": 68.93969,
   "end_time": "2021-10-08T04:15:39.992191",
   "environment_variables": {},
   "exception": null,
   "input_path": "__notebook__.ipynb",
   "output_path": "__notebook__.ipynb",
   "parameters": {},
   "start_time": "2021-10-08T04:14:31.052501",
   "version": "2.3.3"
  }
 },
 "nbformat": 4,
 "nbformat_minor": 5
}
