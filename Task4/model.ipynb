{
  "cells": [
    {
      "cell_type": "code",
      "execution_count": 1,
      "metadata": {
        "colab": {
          "base_uri": "https://localhost:8080/"
        },
        "id": "BwFTMo1g7CBs",
        "outputId": "73d46fc5-c0d1-46dc-edcb-307ceea6a853"
      },
      "outputs": [
        {
          "name": "stdout",
          "output_type": "stream",
          "text": [
            "Drive already mounted at /content/drive; to attempt to forcibly remount, call drive.mount(\"/content/drive\", force_remount=True).\n"
          ]
        }
      ],
      "source": [
        "import matplotlib.pyplot as plt\n",
        "import numpy as np\n",
        "import tensorflow as tf\n",
        "import os\n",
        "from sklearn.model_selection import train_test_split\n",
        "from tensorflow.keras.callbacks import EarlyStopping, ReduceLROnPlateau, TensorBoard, ModelCheckpoint\n",
        "from sklearn.metrics import classification_report,confusion_matrix\n",
        "from sklearn.model_selection import train_test_split\n",
        "import cv2 as cv;\n",
        "from google.colab.patches import cv2_imshow\n",
        "from tensorflow.keras import layers, models\n",
        "from google.colab import drive\n",
        "from tensorflow.keras import regularizers\n",
        "from tensorflow.keras.layers import BatchNormalization\n",
        "from tensorflow.keras.layers import Rescaling\n",
        "drive.mount('/content/drive')"
      ]
    },
    {
      "cell_type": "code",
      "execution_count": 2,
      "metadata": {
        "id": "zrX9Xkcm7gW4"
      },
      "outputs": [],
      "source": [
        "glioma_tumor_path = \"/content/drive/MyDrive/Data/Training/glioma_tumor\"\n",
        "meninigioma_tumor = \"/content/drive/MyDrive/Data/Training/meningioma_tumor\"\n",
        "no_tumor_path = \"/content/drive/MyDrive/Data/Training/no_tumor\"\n",
        "pituitary_tumor_path = \"/content/drive/MyDrive/Data/Training/pituitary_tumor\"\n",
        "lioma_tumor_path_ts = \"/content/drive/MyDrive/Data/Testing/glioma_tumor\"\n",
        "meninigioma_tumor_ts = \"/content/drive/MyDrive/Data/Testing/meningioma_tumor\"\n",
        "no_tumor_path_ts = \"/content/drive/MyDrive/Data/Testing/no_tumor\"\n",
        "pituitary_tumor_path_ts = \"/content/drive/MyDrive/Data/Testing/pituitary_tumor\""
      ]
    },
    {
      "cell_type": "code",
      "execution_count": 3,
      "metadata": {
        "id": "tPqD1LCB7kGl"
      },
      "outputs": [],
      "source": [
        "train_folder = [\n",
        "      glioma_tumor_path,\n",
        "      meninigioma_tumor,\n",
        "      no_tumor_path,\n",
        "      pituitary_tumor_path,\n",
        "      lioma_tumor_path_ts,\n",
        "      meninigioma_tumor_ts,\n",
        "      no_tumor_path_ts,\n",
        "      pituitary_tumor_path_ts\n",
        "]\n",
        "y = [0,1,2,3,0,1,2,3]\n",
        "\n",
        "X = []\n",
        "Y = []\n",
        "\n",
        "currIndex = 0;\n",
        "for folder_path in train_folder:\n",
        "  files = os.listdir(folder_path)\n",
        "\n",
        "  for file in files:\n",
        "      if file.endswith(('.jpg', '.jpeg', '.png', '.gif')):\n",
        "          image_cv2 = cv.resize(cv.imread(os.path.join(folder_path, file),0),(150,150))\n",
        "          X.append(image_cv2)\n",
        "          Y.append(currIndex)\n",
        "  currIndex += 1"
      ]
    },
    {
      "cell_type": "code",
      "execution_count": 4,
      "metadata": {
        "id": "tMFc9CFS7q09"
      },
      "outputs": [],
      "source": [
        "X = np.array(X).astype(np.int64)\n",
        "y = np.array(Y).astype(np.int64)"
      ]
    },
    {
      "cell_type": "code",
      "execution_count": 35,
      "metadata": {
        "id": "XplrrrVZ77tF"
      },
      "outputs": [],
      "source": [
        "X_train, X_test, y_train, y_test = train_test_split(X, y, test_size=0.1, random_state=4)"
      ]
    },
    {
      "cell_type": "code",
      "execution_count": 25,
      "metadata": {
        "id": "H4haHAO97-TS"
      },
      "outputs": [],
      "source": [
        "model = models.Sequential()\n",
        "\n",
        "\n",
        "model.add(layers.Conv2D(32, (3, 3), activation='relu', input_shape=(150, 150, 1)))  # Smaller filter size\n",
        "model.add(layers.BatchNormalization())\n",
        "model.add(layers.MaxPooling2D((2, 2)))\n",
        "\n",
        "model.add(layers.Conv2D(64, (3, 3), activation='relu'))\n",
        "model.add(layers.BatchNormalization())\n",
        "model.add(layers.MaxPooling2D((2, 2)))\n",
        "\n",
        "model.add(layers.Conv2D(64, (3, 3), activation='relu'))\n",
        "model.add(layers.BatchNormalization())\n",
        "model.add(layers.MaxPooling2D((2, 2)))\n",
        "\n",
        "model.add(layers.Flatten())\n",
        "model.add(layers.Dense(64, activation='relu'))\n",
        "model.add(layers.Dense(128, activation='relu'))\n",
        "model.add(layers.Dropout(0.5))\n",
        "\n",
        "# model.add(layers.Dense(10, kernel_regularizer=regularizers.l2(0.01)))\n",
        "model.add(layers.Dense(10, activation='relu', kernel_regularizer=regularizers.l2(0.01)))  # Combine softmax and regularization"
      ]
    },
    {
      "cell_type": "code",
      "execution_count": 26,
      "metadata": {
        "id": "H2ch7g118BoB"
      },
      "outputs": [],
      "source": [
        "optimizer = tf.keras.optimizers.Adam(learning_rate=0.0001)  # Replace 0.001 with your chosen learning rate\n",
        "\n",
        "model.compile(optimizer=optimizer,\n",
        "              loss=tf.keras.losses.SparseCategoricalCrossentropy(from_logits=True),\n",
        "              metrics=['accuracy'])"
      ]
    },
    {
      "cell_type": "code",
      "execution_count": 36,
      "metadata": {
        "colab": {
          "base_uri": "https://localhost:8080/"
        },
        "id": "bkZe39J_8Dbv",
        "outputId": "7334f02a-ef78-4368-e3bc-0ef08b4975ba"
      },
      "outputs": [
        {
          "name": "stdout",
          "output_type": "stream",
          "text": [
            "Epoch 1/30\n",
            "92/92 [==============================] - 3s 31ms/step - loss: 0.3715 - accuracy: 0.9043 - val_loss: 0.2629 - val_accuracy: 0.9205\n",
            "Epoch 2/30\n",
            "92/92 [==============================] - 3s 28ms/step - loss: 0.3641 - accuracy: 0.8999 - val_loss: 0.2962 - val_accuracy: 0.9113\n",
            "Epoch 3/30\n",
            "92/92 [==============================] - 3s 31ms/step - loss: 0.3493 - accuracy: 0.9006 - val_loss: 0.2808 - val_accuracy: 0.9113\n",
            "Epoch 4/30\n",
            "92/92 [==============================] - 3s 30ms/step - loss: 0.3252 - accuracy: 0.9088 - val_loss: 0.3221 - val_accuracy: 0.8991\n",
            "Epoch 5/30\n",
            "92/92 [==============================] - 3s 28ms/step - loss: 0.3139 - accuracy: 0.9111 - val_loss: 0.2889 - val_accuracy: 0.8991\n",
            "Epoch 6/30\n",
            "92/92 [==============================] - 3s 28ms/step - loss: 0.2986 - accuracy: 0.9128 - val_loss: 0.2992 - val_accuracy: 0.8960\n"
          ]
        }
      ],
      "source": [
        "early_stopping = tf.keras.callbacks.EarlyStopping(patience=5, restore_best_weights=True)\n",
        "history = model.fit(X_train, y_train, epochs=30,\n",
        "                    validation_data=(X_test, y_test),callbacks=[early_stopping])"
      ]
    },
    {
      "cell_type": "code",
      "execution_count": 10,
      "metadata": {
        "colab": {
          "base_uri": "https://localhost:8080/"
        },
        "id": "3VaSQBsZT7mn",
        "outputId": "10416b80-5e6a-4d9a-e134-ff6a3517d5a5"
      },
      "outputs": [
        {
          "name": "stdout",
          "output_type": "stream",
          "text": [
            "92/92 [==============================] - 3s 17ms/step\n"
          ]
        }
      ],
      "source": [
        "prd = model.predict(X_train)"
      ]
    },
    {
      "cell_type": "code",
      "execution_count": 37,
      "metadata": {
        "colab": {
          "base_uri": "https://localhost:8080/"
        },
        "id": "DKsllj74YM9E",
        "outputId": "30159eb3-f6d8-4e05-a9f3-6cc5f8243735"
      },
      "outputs": [
        {
          "name": "stdout",
          "output_type": "stream",
          "text": [
            "11/11 [==============================] - 0s 10ms/step - loss: 0.2629 - accuracy: 0.9205\n"
          ]
        },
        {
          "data": {
            "text/plain": [
              "[0.26292070746421814, 0.9204893112182617]"
            ]
          },
          "execution_count": 37,
          "metadata": {},
          "output_type": "execute_result"
        }
      ],
      "source": [
        "model.evaluate(X_test,y_test)"
      ]
    },
    {
      "cell_type": "code",
      "execution_count": 38,
      "metadata": {
        "colab": {
          "base_uri": "https://localhost:8080/"
        },
        "id": "-E2fLJVdUNzL",
        "outputId": "438e8427-087c-4b68-936c-eb17ec2f3b86"
      },
      "outputs": [
        {
          "name": "stdout",
          "output_type": "stream",
          "text": [
            "[[0.         1.8987659  1.0650347  ... 0.         0.         0.        ]\n",
            " [6.698981   0.6777062  1.828032   ... 2.107038   0.         0.        ]\n",
            " [0.         5.101841   0.         ... 0.         0.         0.        ]\n",
            " ...\n",
            " [9.776704   1.5829979  0.7588809  ... 0.39178556 0.         0.        ]\n",
            " [0.         2.6696525  0.         ... 0.         0.         0.        ]\n",
            " [0.         1.190733   2.1004174  ... 0.         0.         0.        ]]\n"
          ]
        }
      ],
      "source": [
        "print(prd)"
      ]
    },
    {
      "cell_type": "code",
      "execution_count": 39,
      "metadata": {
        "colab": {
          "base_uri": "https://localhost:8080/"
        },
        "id": "6tX_GlXyUQkM",
        "outputId": "5912fb3d-05f7-4657-d969-0cddeadbd706"
      },
      "outputs": [
        {
          "name": "stdout",
          "output_type": "stream",
          "text": [
            "[0 4 1 ... 3 0 1]\n"
          ]
        }
      ],
      "source": [
        "print(y_train)"
      ]
    },
    {
      "cell_type": "code",
      "execution_count": 17,
      "metadata": {
        "colab": {
          "base_uri": "https://localhost:8080/"
        },
        "id": "mJfoGRJ7fIrW",
        "outputId": "8b75fd76-0bb1-40e0-d530-2931431e691e"
      },
      "outputs": [
        {
          "data": {
            "text/plain": [
              "7.38346"
            ]
          },
          "execution_count": 17,
          "metadata": {},
          "output_type": "execute_result"
        }
      ],
      "source": [
        "max(prd[0])"
      ]
    },
    {
      "cell_type": "code",
      "execution_count": 40,
      "metadata": {
        "id": "03ImBSMOUgOm"
      },
      "outputs": [],
      "source": [
        "acc = history.history['accuracy']\n",
        "val_acc = history.history['val_accuracy']\n",
        "loss = history.history['loss']\n",
        "val_loss = history.history['val_loss']\n",
        "epochs = range(1, len(acc) + 1)"
      ]
    },
    {
      "cell_type": "code",
      "execution_count": 41,
      "metadata": {
        "colab": {
          "base_uri": "https://localhost:8080/",
          "height": 452
        },
        "id": "I745bNItWoVx",
        "outputId": "807588cd-f7e0-4476-8093-5dcbc3f81613"
      },
      "outputs": [
        {
          "data": {
            "image/png": "[encoded data removed]",
            "text/plain": [
              "<Figure size 640x480 with 1 Axes>"
            ]
          },
          "metadata": {},
          "output_type": "display_data"
        }
      ],
      "source": [
        "# prompt: plot the char of validation and train\n",
        "\n",
        "plt.plot(epochs, acc, 'b', label='Training accuracy')\n",
        "plt.plot(epochs, val_acc, 'r', label='Validation accuracy')\n",
        "plt.title('Training and validation accuracy')\n",
        "plt.legend()\n",
        "plt.show()\n"
      ]
    },
    {
      "cell_type": "code",
      "execution_count": 43,
      "metadata": {
        "colab": {
          "base_uri": "https://localhost:8080/"
        },
        "id": "XX_cdDnUg0tP",
        "outputId": "9b1cd997-80bc-44b4-82b3-64b1a8584d3b"
      },
      "outputs": [
        {
          "name": "stderr",
          "output_type": "stream",
          "text": [
            "/usr/local/lib/python3.10/dist-packages/keras/src/engine/training.py:3103: UserWarning: You are saving your model as an HDF5 file via `model.save()`. This file format is considered legacy. We recommend using instead the native Keras format, e.g. `model.save('my_model.keras')`.\n",
            "  saving_api.save_model(\n"
          ]
        }
      ],
      "source": [
        "model.save('model.h5')"
      ]
    }
  ],
  "metadata": {
    "accelerator": "GPU",
    "colab": {
      "gpuType": "T4",
      "provenance": []
    },
    "kernelspec": {
      "display_name": "Python 3",
      "name": "python3"
    },
    "language_info": {
      "name": "python"
    }
  },
  "nbformat": 4,
  "nbformat_minor": 0
}
